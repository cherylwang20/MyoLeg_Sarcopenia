{
 "cells": [
  {
   "cell_type": "markdown",
   "id": "865d4ead",
   "metadata": {},
   "source": [
    "Topic: MyoSuite-Enabled Musculoskeletal Simulations: A Study of Sarcopenia in Elderly and Healthy Subjects with Exoskeleton Support <br>\n",
    "\n",
    "Daily tasks, e.g. lifting, climbing stairs, standing up, etc. \n",
    "- Hand grip strength\n",
    "- Chair raise time\n",
    "- Stair climb\n",
    "- Gait speed\n",
    "- Stability analysis? "
   ]
  },
  {
   "cell_type": "code",
   "execution_count": null,
   "id": "4ea2fcf0",
   "metadata": {},
   "outputs": [],
   "source": []
  }
 ],
 "metadata": {
  "kernelspec": {
   "display_name": "Python 3 (ipykernel)",
   "language": "python",
   "name": "python3"
  },
  "language_info": {
   "codemirror_mode": {
    "name": "ipython",
    "version": 3
   },
   "file_extension": ".py",
   "mimetype": "text/x-python",
   "name": "python",
   "nbconvert_exporter": "python",
   "pygments_lexer": "ipython3",
   "version": "3.10.9"
  }
 },
 "nbformat": 4,
 "nbformat_minor": 5
}
