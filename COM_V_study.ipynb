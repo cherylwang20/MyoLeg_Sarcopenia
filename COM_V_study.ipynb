{
 "cells": [
  {
   "cell_type": "code",
   "execution_count": 3,
   "metadata": {},
   "outputs": [],
   "source": [
    "import pickle\n",
    "import numpy as np\n",
    "import matplotlib\n",
    "import matplotlib.path as mplPath\n",
    "import matplotlib.pyplot as plt\n",
    "import os\n",
    "import math\n",
    "from matplotlib.lines import Line2D\n",
    "import matplotlib.colors as mcolors\n",
    "\n",
    "\n",
    "name = '2024_02_17_20_19_05_lp'\n",
    "env_name = 'myoLegReachFixed-v2'\n",
    "steps = 1000 - 100\n",
    "pkl_path = './output/PKL/' + env_name + '/'\n",
    "ep = 100\n",
    "\n",
    "\n",
    "def load_pickle(file_path):\n",
    "    with open(file_path, 'rb') as file:\n",
    "        return pickle.load(file)\n",
    "\n",
    "image_path = './image/' + env_name + '/' + name\n",
    "os.makedirs(image_path, exist_ok=True)\n",
    "\n",
    "bins = [60, 70, 80, 90]"
   ]
  },
  {
   "cell_type": "code",
   "execution_count": 4,
   "metadata": {},
   "outputs": [],
   "source": [
    "AP_pert = []\n",
    "AP_pert_1, ML_pert_1= [], []#this is only used for the scatter stand/fall plot\n",
    "ML_pert = []\n",
    "stand = []\n",
    "fall = []\n",
    "pert_1_AP, pert_2_AP, pert_3_AP, pert_4_AP= [], [], [], []\n",
    "pert_1_ML, pert_2_ML, pert_3_ML, pert_4_ML = [], [], [], []\n",
    "for i in range(ep):\n",
    "    file_path = pkl_path + name+f'_{i}.pkl'  # Replace with actual file paths\n",
    "    data = load_pickle(file_path)\n",
    "    height = data['bodyInfo']['height']\n",
    "    if 0 <= data['modelInfo']['perturbationMagnitude'] <= 10: \n",
    "        print(data['modelInfo']['perturbationMagnitude'])\n",
    "    if height > 0.5:\n",
    "        stand.append(data.copy())\n",
    "    else:\n",
    "        fall.append(data.copy())\n",
    "    \n",
    "    if data['modelInfo']['perturbationDirection'] == 1:\n",
    "        AP_pert_1.append(data)\n",
    "    else:\n",
    "        ML_pert_1.append(data)\n",
    "\n",
    "for data in stand:\n",
    "    if data['modelInfo']['perturbationDirection'] == 1:\n",
    "        AP_pert.append(data)\n",
    "        if bins[0] <= data['modelInfo']['perturbationMagnitude'] <= bins[1]:\n",
    "            pert_1_AP.append(data)\n",
    "        elif bins[1] <= data['modelInfo']['perturbationMagnitude'] <= bins[2]:\n",
    "            pert_2_AP.append(data)\n",
    "        elif bins[2] <= data['modelInfo']['perturbationMagnitude'] <= bins[3]:\n",
    "            pert_3_AP.append(data)\n",
    "        elif bins[3] <= data['modelInfo']['perturbationMagnitude'] <= bins[4]:\n",
    "            pert_4_AP.append(data)\n",
    "    else:\n",
    "        ML_pert.append(data)\n",
    "        if 0 <= data['modelInfo']['perturbationMagnitude'] <= 10:\n",
    "            pert_1_ML.append(data)\n",
    "        elif 10 <= data['modelInfo']['perturbationMagnitude'] <= 20:\n",
    "            pert_2_ML.append(data)\n",
    "        elif 20 <= data['modelInfo']['perturbationMagnitude'] <= 30:\n",
    "            pert_3_ML.append(data)\n",
    "        elif 30 <= data['modelInfo']['perturbationMagnitude'] <= 40:\n",
    "            pert_4_ML.append(data)\n",
    "\n",
    "    \n",
    "pert_AP = [pert_1_AP, pert_2_AP, pert_3_AP, pert_4_AP]\n",
    "\n",
    "plt.rcParams.update({\n",
    "    \"font.family\": \"Times New Roman\",  # specify font family here\n",
    "    \"font.size\":15}) "
   ]
  },
  {
   "cell_type": "code",
   "execution_count": 7,
   "metadata": {},
   "outputs": [
    {
     "ename": "IndentationError",
     "evalue": "unexpected indent (3345773753.py, line 4)",
     "output_type": "error",
     "traceback": [
      "\u001b[1;36m  Cell \u001b[1;32mIn[7], line 4\u001b[1;36m\u001b[0m\n\u001b[1;33m    for j in range(len(pert_AP)):\u001b[0m\n\u001b[1;37m    ^\u001b[0m\n\u001b[1;31mIndentationError\u001b[0m\u001b[1;31m:\u001b[0m unexpected indent\n"
     ]
    }
   ],
   "source": [
    "colormap = plt.cm.plasma_r\n",
    "norm = mcolors.BoundaryNorm(bins, colormap.N)\n",
    "fig = plt.figure(figsize=(20, 12))\n",
    "for j in range(len(pert_AP)):\n",
    "    l1, l2, l3, l4, l5 = [], [], [], [], []\n",
    "    l = [l1, l2, l3, l4, l5]\n",
    "    mean_pert = []\n",
    "    for k in pert_AP[j]:\n",
    "        l[j].append(k['jointInfo']['qpos'][joint_names_l[i]][100:])\n",
    "        mean_pert.append(k[\"modelInfo\"][\"perturbationMagnitude\"])\n",
    "    if not l[j]:\n",
    "        continue\n",
    "    else:\n",
    "        mean = np.mean(l[j], axis = 0)*180/np.pi\n",
    "        std = np.std(l[j], axis = 0)*180/np.pi\n",
    "        upper = mean + 2*std\n",
    "        lower = mean - 2*std\n",
    "        plt.plot(x_time, np.mean(l[j], axis= 0)*180/np.pi, c = colormap(norm(np.mean(mean_pert))), alpha = 0.7, linewidth = 2)\n",
    "        plt.fill_between(x_time, lower.flatten(), upper.flatten(), facecolor = colormap(norm(np.mean(mean_pert))), alpha = 0.3)\n",
    "plt.title(title[i])\n",
    "if i == 0:\n",
    "    plt.ylabel('Left Joint Angle (deg)')\n"
   ]
  },
  {
   "cell_type": "code",
   "execution_count": null,
   "metadata": {},
   "outputs": [],
   "source": []
  }
 ],
 "metadata": {
  "kernelspec": {
   "display_name": "Python 3",
   "language": "python",
   "name": "python3"
  },
  "language_info": {
   "codemirror_mode": {
    "name": "ipython",
    "version": 3
   },
   "file_extension": ".py",
   "mimetype": "text/x-python",
   "name": "python",
   "nbconvert_exporter": "python",
   "pygments_lexer": "ipython3",
   "version": "3.8.10"
  }
 },
 "nbformat": 4,
 "nbformat_minor": 2
}
